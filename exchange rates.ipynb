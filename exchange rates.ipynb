{
 "cells": [
  {
   "cell_type": "code",
   "execution_count": 30,
   "id": "a9c02f77",
   "metadata": {
    "scrolled": true
   },
   "outputs": [],
   "source": [
    "import pandas as pd"
   ]
  },
  {
   "cell_type": "code",
   "execution_count": 12,
   "id": "2470acbd",
   "metadata": {},
   "outputs": [],
   "source": [
    "url = \"https://www.bis.org/statistics/eer/broad.xlsx\"\n",
    "response = pd.read_excel(url, sheet_name = None)"
   ]
  },
  {
   "cell_type": "code",
   "execution_count": 27,
   "id": "ab86ca05",
   "metadata": {},
   "outputs": [],
   "source": [
    "def datifier(link):\n",
    "    response = pd.read_excel(url, sheet_name = None)\n",
    "    writer = pd.ExcelWriter('exchangerates.xlsx', engine='xlsxwriter')\n",
    "\n",
    "    for i in response.keys():\n",
    "        wrangled = pd.concat([response[i].iloc[2:4, :], response[i].tail(4)], ignore_index=True)\n",
    "        wrangled.to_excel(writer, sheet_name = i, index = False)\n",
    "\n",
    "    writer.close()"
   ]
  },
  {
   "cell_type": "code",
   "execution_count": 28,
   "id": "0f4dda15",
   "metadata": {},
   "outputs": [],
   "source": [
    "datifier(url)"
   ]
  }
 ],
 "metadata": {
  "kernelspec": {
   "display_name": "Python 3 (ipykernel)",
   "language": "python",
   "name": "python3"
  },
  "language_info": {
   "codemirror_mode": {
    "name": "ipython",
    "version": 3
   },
   "file_extension": ".py",
   "mimetype": "text/x-python",
   "name": "python",
   "nbconvert_exporter": "python",
   "pygments_lexer": "ipython3",
   "version": "3.11.5"
  }
 },
 "nbformat": 4,
 "nbformat_minor": 5
}
